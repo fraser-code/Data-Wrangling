{
 "cells": [
  {
   "cell_type": "markdown",
   "metadata": {
    "id": "GNIwe5N7s0e_"
   },
   "source": [
    "# Real-world Data Wrangling"
   ]
  },
  {
   "cell_type": "code",
   "execution_count": 1,
   "metadata": {},
   "outputs": [],
   "source": [
    "#Importing important libraries\n",
    "\n",
    "import kaggle\n",
    "import os\n",
    "import pandas as pd\n",
    "import numpy as np\n",
    "import matplotlib.pyplot as plt\n",
    "import seaborn as sns\n",
    "from zipfile import ZipFile\n",
    "import ast\n",
    "import requests\n",
    "from bs4 import BeautifulSoup\n",
    "from selenium import webdriver\n",
    "from selenium.webdriver.common.by import By\n",
    "import warnings\n",
    "\n",
    "\n",
    "warnings.filterwarnings(\"ignore\")\n",
    "pd.set_option('display.max_columns', None)"
   ]
  },
  {
   "cell_type": "markdown",
   "metadata": {
    "id": "lDYDkH-Zs7Nn"
   },
   "source": [
    "## 1. Gather data\n",
    "\n",
    "1) Importing through an API: https://www.kaggle.com/datasets/rounakbanik/the-movies-dataset\n",
    "\n",
    "2) Manually uploading a zip file from: https://www.kaggle.com/datasets/shivamb/netflix-shows"
   ]
  },
  {
   "cell_type": "markdown",
   "metadata": {
    "id": "LbN7z7rcuqpO"
   },
   "source": [
    "### **1.1.** Problem Statement\n",
    "In this project we will be analysing the TMDB Dataset in conjunction with the Netflix dataset to check:\n",
    "\n",
    "**1) If there is a significant difference in the profit margins of Netflix movies where English is the primary language compared to those where English is not the primary language.**\n",
    "\n",
    "**2) Top 10 directors based on the average vote their movies have received.**"
   ]
  },
  {
   "cell_type": "markdown",
   "metadata": {
    "id": "8AQfBAdUypMm"
   },
   "source": [
    "### **1.2.** Gather at least two datasets using two different data gathering methods"
   ]
  },
  {
   "cell_type": "markdown",
   "metadata": {
    "id": "7e6gS0wL1KTu"
   },
   "source": [
    "#### **Dataset 1**\n",
    "I selected the TMDB (The Movie Database) dataset for its comprehensive coverage of movie details, which allows for a multifaceted analysis of factors influencing a film's success. This dataset includes crucial variables such as genre, budget, revenue, and user ratings, each of which plays a significant role in understanding audience preferences and the financial success of films. By examining these variables, we can explore how accessibility and targeted demographics contribute to a movie's popularity and profitability. The data was gathered using the Kaggles API.\n",
    "\n",
    "**Type:** CSV File\n",
    "\n",
    "**Method:** The data was gathered using the accessing API method through Kaggle.\n",
    "\n",
    "**Dataset variables:**\n",
    "\n",
    "* genres\n",
    "* revenue\n",
    "* budget\n",
    "* popularity\n",
    "* language\n",
    "* release date\n",
    "* vote average"
   ]
  },
  {
   "cell_type": "code",
   "execution_count": 2,
   "metadata": {
    "scrolled": true
   },
   "outputs": [
    {
     "name": "stdout",
     "output_type": "stream",
     "text": [
      "Dataset URL: https://www.kaggle.com/datasets/rounakbanik/the-movies-dataset\n"
     ]
    },
    {
     "data": {
      "text/html": [
       "<div>\n",
       "<style scoped>\n",
       "    .dataframe tbody tr th:only-of-type {\n",
       "        vertical-align: middle;\n",
       "    }\n",
       "\n",
       "    .dataframe tbody tr th {\n",
       "        vertical-align: top;\n",
       "    }\n",
       "\n",
       "    .dataframe thead th {\n",
       "        text-align: right;\n",
       "    }\n",
       "</style>\n",
       "<table border=\"1\" class=\"dataframe\">\n",
       "  <thead>\n",
       "    <tr style=\"text-align: right;\">\n",
       "      <th></th>\n",
       "      <th>adult</th>\n",
       "      <th>belongs_to_collection</th>\n",
       "      <th>budget</th>\n",
       "      <th>genres</th>\n",
       "      <th>homepage</th>\n",
       "      <th>id</th>\n",
       "      <th>imdb_id</th>\n",
       "      <th>original_language</th>\n",
       "      <th>original_title</th>\n",
       "      <th>overview</th>\n",
       "      <th>popularity</th>\n",
       "      <th>poster_path</th>\n",
       "      <th>production_companies</th>\n",
       "      <th>production_countries</th>\n",
       "      <th>release_date</th>\n",
       "      <th>revenue</th>\n",
       "      <th>runtime</th>\n",
       "      <th>spoken_languages</th>\n",
       "      <th>status</th>\n",
       "      <th>tagline</th>\n",
       "      <th>title</th>\n",
       "      <th>video</th>\n",
       "      <th>vote_average</th>\n",
       "      <th>vote_count</th>\n",
       "    </tr>\n",
       "  </thead>\n",
       "  <tbody>\n",
       "    <tr>\n",
       "      <th>0</th>\n",
       "      <td>False</td>\n",
       "      <td>{'id': 10194, 'name': 'Toy Story Collection', ...</td>\n",
       "      <td>30000000</td>\n",
       "      <td>[{'id': 16, 'name': 'Animation'}, {'id': 35, '...</td>\n",
       "      <td>http://toystory.disney.com/toy-story</td>\n",
       "      <td>862</td>\n",
       "      <td>tt0114709</td>\n",
       "      <td>en</td>\n",
       "      <td>Toy Story</td>\n",
       "      <td>Led by Woody, Andy's toys live happily in his ...</td>\n",
       "      <td>21.946943</td>\n",
       "      <td>/rhIRbceoE9lR4veEXuwCC2wARtG.jpg</td>\n",
       "      <td>[{'name': 'Pixar Animation Studios', 'id': 3}]</td>\n",
       "      <td>[{'iso_3166_1': 'US', 'name': 'United States o...</td>\n",
       "      <td>1995-10-30</td>\n",
       "      <td>373554033.0</td>\n",
       "      <td>81.0</td>\n",
       "      <td>[{'iso_639_1': 'en', 'name': 'English'}]</td>\n",
       "      <td>Released</td>\n",
       "      <td>NaN</td>\n",
       "      <td>Toy Story</td>\n",
       "      <td>False</td>\n",
       "      <td>7.7</td>\n",
       "      <td>5415.0</td>\n",
       "    </tr>\n",
       "  </tbody>\n",
       "</table>\n",
       "</div>"
      ],
      "text/plain": [
       "   adult                              belongs_to_collection    budget  \\\n",
       "0  False  {'id': 10194, 'name': 'Toy Story Collection', ...  30000000   \n",
       "\n",
       "                                              genres  \\\n",
       "0  [{'id': 16, 'name': 'Animation'}, {'id': 35, '...   \n",
       "\n",
       "                               homepage   id    imdb_id original_language  \\\n",
       "0  http://toystory.disney.com/toy-story  862  tt0114709                en   \n",
       "\n",
       "  original_title                                           overview  \\\n",
       "0      Toy Story  Led by Woody, Andy's toys live happily in his ...   \n",
       "\n",
       "  popularity                       poster_path  \\\n",
       "0  21.946943  /rhIRbceoE9lR4veEXuwCC2wARtG.jpg   \n",
       "\n",
       "                             production_companies  \\\n",
       "0  [{'name': 'Pixar Animation Studios', 'id': 3}]   \n",
       "\n",
       "                                production_countries release_date  \\\n",
       "0  [{'iso_3166_1': 'US', 'name': 'United States o...   1995-10-30   \n",
       "\n",
       "       revenue  runtime                          spoken_languages    status  \\\n",
       "0  373554033.0     81.0  [{'iso_639_1': 'en', 'name': 'English'}]  Released   \n",
       "\n",
       "  tagline      title  video  vote_average  vote_count  \n",
       "0     NaN  Toy Story  False           7.7      5415.0  "
      ]
     },
     "execution_count": 2,
     "metadata": {},
     "output_type": "execute_result"
    }
   ],
   "source": [
    "# Download dataset through Kaggle API and importing the data\n",
    "kaggle.api.dataset_download_files('rounakbanik/the-movies-dataset', path='./', unzip=True)\n",
    "TMDB = pd.read_csv('movies_metadata.csv')\n",
    "TMDB.head(1)"
   ]
  },
  {
   "cell_type": "markdown",
   "metadata": {
    "id": "hoUjq1tPzz7P"
   },
   "source": [
    "#### Dataset 2\n",
    "\n",
    "I chose this dataset of Netflix movies because it provides a comprehensive overview of the content available on one of the world's leading streaming platforms. It is a great addition to our TMDB movie dataset, which lacks the director's name, cast, and a few other details. This addition allows us to analyze movie data from a few more perspectives.\n",
    "\n",
    "**Type:** ZIP File\n",
    "\n",
    "**Method:** The data was gathered using the \"Download data manually\" method from kaggle.)\n",
    "\n",
    "**Dataset variables:**\n",
    "\n",
    "* Director\n",
    "* Cast\n",
    "* Rating"
   ]
  },
  {
   "cell_type": "code",
   "execution_count": 3,
   "metadata": {},
   "outputs": [],
   "source": [
    "with ZipFile('Netflix Data.zip', 'r') as z:\n",
    "    with z.open('netflix_titles.csv') as file:\n",
    "        NT = pd.read_csv(file)"
   ]
  },
  {
   "cell_type": "code",
   "execution_count": 4,
   "metadata": {},
   "outputs": [
    {
     "data": {
      "text/html": [
       "<div>\n",
       "<style scoped>\n",
       "    .dataframe tbody tr th:only-of-type {\n",
       "        vertical-align: middle;\n",
       "    }\n",
       "\n",
       "    .dataframe tbody tr th {\n",
       "        vertical-align: top;\n",
       "    }\n",
       "\n",
       "    .dataframe thead th {\n",
       "        text-align: right;\n",
       "    }\n",
       "</style>\n",
       "<table border=\"1\" class=\"dataframe\">\n",
       "  <thead>\n",
       "    <tr style=\"text-align: right;\">\n",
       "      <th></th>\n",
       "      <th>show_id</th>\n",
       "      <th>type</th>\n",
       "      <th>title</th>\n",
       "      <th>director</th>\n",
       "      <th>cast</th>\n",
       "      <th>country</th>\n",
       "      <th>date_added</th>\n",
       "      <th>release_year</th>\n",
       "      <th>rating</th>\n",
       "      <th>duration</th>\n",
       "      <th>listed_in</th>\n",
       "      <th>description</th>\n",
       "    </tr>\n",
       "  </thead>\n",
       "  <tbody>\n",
       "    <tr>\n",
       "      <th>0</th>\n",
       "      <td>s1</td>\n",
       "      <td>Movie</td>\n",
       "      <td>Dick Johnson Is Dead</td>\n",
       "      <td>Kirsten Johnson</td>\n",
       "      <td>NaN</td>\n",
       "      <td>United States</td>\n",
       "      <td>September 25, 2021</td>\n",
       "      <td>2020</td>\n",
       "      <td>PG-13</td>\n",
       "      <td>90 min</td>\n",
       "      <td>Documentaries</td>\n",
       "      <td>As her father nears the end of his life, filmm...</td>\n",
       "    </tr>\n",
       "  </tbody>\n",
       "</table>\n",
       "</div>"
      ],
      "text/plain": [
       "  show_id   type                 title         director cast        country  \\\n",
       "0      s1  Movie  Dick Johnson Is Dead  Kirsten Johnson  NaN  United States   \n",
       "\n",
       "           date_added  release_year rating duration      listed_in  \\\n",
       "0  September 25, 2021          2020  PG-13   90 min  Documentaries   \n",
       "\n",
       "                                         description  \n",
       "0  As her father nears the end of his life, filmm...  "
      ]
     },
     "execution_count": 4,
     "metadata": {},
     "output_type": "execute_result"
    }
   ],
   "source": [
    "NT.head(1)"
   ]
  },
  {
   "cell_type": "markdown",
   "metadata": {
    "id": "hoUjq1tPzz7P"
   },
   "source": [
    "#### Dataset 3\n",
    "\n",
    "The TMDB dataset currently does not account for inflation when displaying the budget and revenue, which limits its ability to provide a realistic representation of a movie's financial performance. This issue becomes particularly significant when aggregating data, as newer releases disproportionately influence the overall aggregates. Hence we webscrape a table containing yearly inflation rates from Investopedia.\n",
    "\n",
    "**Type:** CSV File\n",
    "\n",
    "**Method:** The data was gathered using \"Webscraping\" method from https://www.investopedia.com/inflation-rate-by-year-7253832.\n",
    "\n",
    "**Dataset variables:**\n",
    "\n",
    "* Year\n",
    "* Inflation Rate"
   ]
  },
  {
   "cell_type": "code",
   "execution_count": 5,
   "metadata": {},
   "outputs": [],
   "source": [
    "url = 'https://www.investopedia.com/inflation-rate-by-year-7253832'\n",
    "\n",
    "# Set up Selenium WebDriver\n",
    "driver = webdriver.Chrome()\n",
    "driver.get(url)\n",
    "driver.implicitly_wait(5)\n",
    "\n",
    "# Finding the table\n",
    "table = driver.find_element(By.XPATH, \"/html/body/main/article/div[3]/div[3]/div[1]/figure/div/table\")\n",
    "\n",
    "# Get the page source after rendering\n",
    "html = table.get_attribute('outerHTML')\n",
    "\n",
    "# Use BeautifulSoup for parsing\n",
    "soup = BeautifulSoup(html, 'html.parser')\n",
    "\n",
    "# Storing our data in a list\n",
    "rows = [\n",
    "    [td.text.strip() for td in tr.find_all('td')] \n",
    "    for tr in soup.find_all('tr') if tr.find_all('td')\n",
    "]\n",
    "\n",
    "driver.quit()"
   ]
  },
  {
   "cell_type": "code",
   "execution_count": 6,
   "metadata": {},
   "outputs": [
    {
     "data": {
      "text/html": [
       "<div>\n",
       "<style scoped>\n",
       "    .dataframe tbody tr th:only-of-type {\n",
       "        vertical-align: middle;\n",
       "    }\n",
       "\n",
       "    .dataframe tbody tr th {\n",
       "        vertical-align: top;\n",
       "    }\n",
       "\n",
       "    .dataframe thead th {\n",
       "        text-align: right;\n",
       "    }\n",
       "</style>\n",
       "<table border=\"1\" class=\"dataframe\">\n",
       "  <thead>\n",
       "    <tr style=\"text-align: right;\">\n",
       "      <th></th>\n",
       "      <th>Year</th>\n",
       "      <th>Inflation Rate</th>\n",
       "    </tr>\n",
       "  </thead>\n",
       "  <tbody>\n",
       "    <tr>\n",
       "      <th>0</th>\n",
       "      <td>1929</td>\n",
       "      <td>0.60%</td>\n",
       "    </tr>\n",
       "    <tr>\n",
       "      <th>1</th>\n",
       "      <td>1930</td>\n",
       "      <td>-6.40%</td>\n",
       "    </tr>\n",
       "    <tr>\n",
       "      <th>2</th>\n",
       "      <td>1931</td>\n",
       "      <td>-9.30%</td>\n",
       "    </tr>\n",
       "    <tr>\n",
       "      <th>3</th>\n",
       "      <td>1932</td>\n",
       "      <td>-10.30%</td>\n",
       "    </tr>\n",
       "    <tr>\n",
       "      <th>4</th>\n",
       "      <td>1933</td>\n",
       "      <td>0.80%</td>\n",
       "    </tr>\n",
       "    <tr>\n",
       "      <th>...</th>\n",
       "      <td>...</td>\n",
       "      <td>...</td>\n",
       "    </tr>\n",
       "    <tr>\n",
       "      <th>90</th>\n",
       "      <td>2019</td>\n",
       "      <td>2.30%</td>\n",
       "    </tr>\n",
       "    <tr>\n",
       "      <th>91</th>\n",
       "      <td>2020</td>\n",
       "      <td>1.40%</td>\n",
       "    </tr>\n",
       "    <tr>\n",
       "      <th>92</th>\n",
       "      <td>2021</td>\n",
       "      <td>7.00%</td>\n",
       "    </tr>\n",
       "    <tr>\n",
       "      <th>93</th>\n",
       "      <td>2022</td>\n",
       "      <td>6.50%</td>\n",
       "    </tr>\n",
       "    <tr>\n",
       "      <th>94</th>\n",
       "      <td>2023</td>\n",
       "      <td>3.40%</td>\n",
       "    </tr>\n",
       "  </tbody>\n",
       "</table>\n",
       "<p>95 rows × 2 columns</p>\n",
       "</div>"
      ],
      "text/plain": [
       "    Year Inflation Rate\n",
       "0   1929          0.60%\n",
       "1   1930         -6.40%\n",
       "2   1931         -9.30%\n",
       "3   1932        -10.30%\n",
       "4   1933          0.80%\n",
       "..   ...            ...\n",
       "90  2019          2.30%\n",
       "91  2020          1.40%\n",
       "92  2021          7.00%\n",
       "93  2022          6.50%\n",
       "94  2023          3.40%\n",
       "\n",
       "[95 rows x 2 columns]"
      ]
     },
     "execution_count": 6,
     "metadata": {},
     "output_type": "execute_result"
    }
   ],
   "source": [
    "# Saving the data to a dataframe and organising it\n",
    "INF = pd.DataFrame(rows[1:], columns=rows[0])\n",
    "INF = INF[['Year','Inflation Rate YOY, From Previous Dec.']]\n",
    "INF.rename(columns={'Inflation Rate YOY, From Previous Dec.': 'Inflation Rate'}, inplace=True)\n",
    "INF"
   ]
  },
  {
   "cell_type": "markdown",
   "metadata": {
    "id": "QwSWIVmotLgV"
   },
   "source": [
    "## 2. Assess data"
   ]
  },
  {
   "cell_type": "markdown",
   "metadata": {
    "id": "adaK2iPNzVu4"
   },
   "source": [
    "### Quality Issue 1: Incorrect datatypes"
   ]
  },
  {
   "cell_type": "code",
   "execution_count": 7,
   "metadata": {
    "id": "-qfcocStzsKg"
   },
   "outputs": [
    {
     "data": {
      "text/plain": [
       "str"
      ]
     },
     "execution_count": 7,
     "metadata": {},
     "output_type": "execute_result"
    }
   ],
   "source": [
    "type(TMDB['budget'][0])"
   ]
  },
  {
   "cell_type": "code",
   "execution_count": 8,
   "metadata": {},
   "outputs": [
    {
     "data": {
      "text/plain": [
       "numpy.float64"
      ]
     },
     "execution_count": 8,
     "metadata": {},
     "output_type": "execute_result"
    }
   ],
   "source": [
    "type(TMDB['revenue'][0])"
   ]
  },
  {
   "cell_type": "code",
   "execution_count": 9,
   "metadata": {},
   "outputs": [
    {
     "data": {
      "text/plain": [
       "str"
      ]
     },
     "execution_count": 9,
     "metadata": {},
     "output_type": "execute_result"
    }
   ],
   "source": [
    "type(TMDB['release_date'][0])"
   ]
  },
  {
   "cell_type": "code",
   "execution_count": 10,
   "metadata": {},
   "outputs": [
    {
     "name": "stdout",
     "output_type": "stream",
     "text": [
      "adult                     object\n",
      "belongs_to_collection     object\n",
      "budget                    object\n",
      "genres                    object\n",
      "homepage                  object\n",
      "id                        object\n",
      "imdb_id                   object\n",
      "original_language         object\n",
      "original_title            object\n",
      "overview                  object\n",
      "popularity                object\n",
      "poster_path               object\n",
      "production_companies      object\n",
      "production_countries      object\n",
      "release_date              object\n",
      "revenue                  float64\n",
      "runtime                  float64\n",
      "spoken_languages          object\n",
      "status                    object\n",
      "tagline                   object\n",
      "title                     object\n",
      "video                     object\n",
      "vote_average             float64\n",
      "vote_count               float64\n",
      "dtype: object\n",
      "show_id         object\n",
      "type            object\n",
      "title           object\n",
      "director        object\n",
      "cast            object\n",
      "country         object\n",
      "date_added      object\n",
      "release_year     int64\n",
      "rating          object\n",
      "duration        object\n",
      "listed_in       object\n",
      "description     object\n",
      "dtype: object\n"
     ]
    }
   ],
   "source": [
    "print(TMDB.dtypes)\n",
    "print(NT.dtypes)"
   ]
  },
  {
   "cell_type": "markdown",
   "metadata": {},
   "source": [
    "**Issue and justification:** Like the budget, revenue and release date, several other columns in the datasets have incorrect data types which need to be rectified. Misclassification can lead to significant data processing challenges, as operations that require numerical computation, sorting, or comparison will throw an error. To ensure accurate analysis and facilitate smoother data operations, it is essential to convert these strings to their correct integer data types before proceeding with further data handling or analysis."
   ]
  },
  {
   "cell_type": "markdown",
   "metadata": {
    "id": "8Be77N4I1AmE"
   },
   "source": [
    "### Quality Issue 2: Revenue not adjusted for inflation"
   ]
  },
  {
   "cell_type": "code",
   "execution_count": 11,
   "metadata": {
    "id": "iMhHyiyLM2I3"
   },
   "outputs": [
    {
     "data": {
      "text/html": [
       "<div>\n",
       "<style scoped>\n",
       "    .dataframe tbody tr th:only-of-type {\n",
       "        vertical-align: middle;\n",
       "    }\n",
       "\n",
       "    .dataframe tbody tr th {\n",
       "        vertical-align: top;\n",
       "    }\n",
       "\n",
       "    .dataframe thead th {\n",
       "        text-align: right;\n",
       "    }\n",
       "</style>\n",
       "<table border=\"1\" class=\"dataframe\">\n",
       "  <thead>\n",
       "    <tr style=\"text-align: right;\">\n",
       "      <th></th>\n",
       "      <th>original_title</th>\n",
       "      <th>release_date</th>\n",
       "      <th>budget</th>\n",
       "      <th>revenue</th>\n",
       "    </tr>\n",
       "  </thead>\n",
       "  <tbody>\n",
       "    <tr>\n",
       "      <th>0</th>\n",
       "      <td>Toy Story</td>\n",
       "      <td>1995-10-30</td>\n",
       "      <td>30000000</td>\n",
       "      <td>373554033.0</td>\n",
       "    </tr>\n",
       "    <tr>\n",
       "      <th>1</th>\n",
       "      <td>Jumanji</td>\n",
       "      <td>1995-12-15</td>\n",
       "      <td>65000000</td>\n",
       "      <td>262797249.0</td>\n",
       "    </tr>\n",
       "    <tr>\n",
       "      <th>2</th>\n",
       "      <td>Grumpier Old Men</td>\n",
       "      <td>1995-12-22</td>\n",
       "      <td>0</td>\n",
       "      <td>0.0</td>\n",
       "    </tr>\n",
       "    <tr>\n",
       "      <th>3</th>\n",
       "      <td>Waiting to Exhale</td>\n",
       "      <td>1995-12-22</td>\n",
       "      <td>16000000</td>\n",
       "      <td>81452156.0</td>\n",
       "    </tr>\n",
       "    <tr>\n",
       "      <th>4</th>\n",
       "      <td>Father of the Bride Part II</td>\n",
       "      <td>1995-02-10</td>\n",
       "      <td>0</td>\n",
       "      <td>76578911.0</td>\n",
       "    </tr>\n",
       "  </tbody>\n",
       "</table>\n",
       "</div>"
      ],
      "text/plain": [
       "                original_title release_date    budget      revenue\n",
       "0                    Toy Story   1995-10-30  30000000  373554033.0\n",
       "1                      Jumanji   1995-12-15  65000000  262797249.0\n",
       "2             Grumpier Old Men   1995-12-22         0          0.0\n",
       "3            Waiting to Exhale   1995-12-22  16000000   81452156.0\n",
       "4  Father of the Bride Part II   1995-02-10         0   76578911.0"
      ]
     },
     "execution_count": 11,
     "metadata": {},
     "output_type": "execute_result"
    }
   ],
   "source": [
    "# Inspecting the dataframe visually\n",
    "TMDB[['original_title', 'release_date', 'budget', 'revenue']].head(5)"
   ]
  },
  {
   "cell_type": "markdown",
   "metadata": {},
   "source": [
    "**Issue and justification:** Checking the amount spent on \"Toy Story\" on Google, we see that the amount was $30,000,000. Our dataset displays the same value. This means it has not been adjusted for inflation. Adjusting the data for inflation helps put films' financial success on a more even playing field, making it fairer to compare."
   ]
  },
  {
   "cell_type": "markdown",
   "metadata": {
    "id": "4ffMoRGSwzYj"
   },
   "source": [
    "### Tidiness Issue 1: Violation of the Rule that 'A Single Observation Should Be Contained in One Table'"
   ]
  },
  {
   "cell_type": "code",
   "execution_count": 12,
   "metadata": {
    "id": "XUpeoqokw5Qt"
   },
   "outputs": [
    {
     "data": {
      "text/html": [
       "<div>\n",
       "<style scoped>\n",
       "    .dataframe tbody tr th:only-of-type {\n",
       "        vertical-align: middle;\n",
       "    }\n",
       "\n",
       "    .dataframe tbody tr th {\n",
       "        vertical-align: top;\n",
       "    }\n",
       "\n",
       "    .dataframe thead th {\n",
       "        text-align: right;\n",
       "    }\n",
       "</style>\n",
       "<table border=\"1\" class=\"dataframe\">\n",
       "  <thead>\n",
       "    <tr style=\"text-align: right;\">\n",
       "      <th></th>\n",
       "      <th>adult</th>\n",
       "      <th>belongs_to_collection</th>\n",
       "      <th>budget</th>\n",
       "      <th>genres</th>\n",
       "      <th>homepage</th>\n",
       "      <th>id</th>\n",
       "      <th>imdb_id</th>\n",
       "      <th>original_language</th>\n",
       "      <th>original_title</th>\n",
       "      <th>overview</th>\n",
       "      <th>popularity</th>\n",
       "      <th>poster_path</th>\n",
       "      <th>production_companies</th>\n",
       "      <th>production_countries</th>\n",
       "      <th>release_date</th>\n",
       "      <th>revenue</th>\n",
       "      <th>runtime</th>\n",
       "      <th>spoken_languages</th>\n",
       "      <th>status</th>\n",
       "      <th>tagline</th>\n",
       "      <th>title</th>\n",
       "      <th>video</th>\n",
       "      <th>vote_average</th>\n",
       "      <th>vote_count</th>\n",
       "    </tr>\n",
       "  </thead>\n",
       "  <tbody>\n",
       "    <tr>\n",
       "      <th>14236</th>\n",
       "      <td>False</td>\n",
       "      <td>NaN</td>\n",
       "      <td>23600000</td>\n",
       "      <td>[{'id': 35, 'name': 'Comedy'}, {'id': 27, 'nam...</td>\n",
       "      <td>http://www.zombieland.com/</td>\n",
       "      <td>19908</td>\n",
       "      <td>tt1156398</td>\n",
       "      <td>en</td>\n",
       "      <td>Zombieland</td>\n",
       "      <td>Columbus has made a habit of running from what...</td>\n",
       "      <td>11.063029</td>\n",
       "      <td>/vUzzDpVrab1BOG3ogxhRGfLN94d.jpg</td>\n",
       "      <td>[{'name': 'Columbia Pictures', 'id': 5}, {'nam...</td>\n",
       "      <td>[{'iso_3166_1': 'US', 'name': 'United States o...</td>\n",
       "      <td>2009-10-07</td>\n",
       "      <td>102391382.0</td>\n",
       "      <td>88.0</td>\n",
       "      <td>[{'iso_639_1': 'en', 'name': 'English'}]</td>\n",
       "      <td>Released</td>\n",
       "      <td>This place is so dead</td>\n",
       "      <td>Zombieland</td>\n",
       "      <td>False</td>\n",
       "      <td>7.2</td>\n",
       "      <td>3655.0</td>\n",
       "    </tr>\n",
       "  </tbody>\n",
       "</table>\n",
       "</div>"
      ],
      "text/plain": [
       "       adult belongs_to_collection    budget  \\\n",
       "14236  False                   NaN  23600000   \n",
       "\n",
       "                                                  genres  \\\n",
       "14236  [{'id': 35, 'name': 'Comedy'}, {'id': 27, 'nam...   \n",
       "\n",
       "                         homepage     id    imdb_id original_language  \\\n",
       "14236  http://www.zombieland.com/  19908  tt1156398                en   \n",
       "\n",
       "      original_title                                           overview  \\\n",
       "14236     Zombieland  Columbus has made a habit of running from what...   \n",
       "\n",
       "      popularity                       poster_path  \\\n",
       "14236  11.063029  /vUzzDpVrab1BOG3ogxhRGfLN94d.jpg   \n",
       "\n",
       "                                    production_companies  \\\n",
       "14236  [{'name': 'Columbia Pictures', 'id': 5}, {'nam...   \n",
       "\n",
       "                                    production_countries release_date  \\\n",
       "14236  [{'iso_3166_1': 'US', 'name': 'United States o...   2009-10-07   \n",
       "\n",
       "           revenue  runtime                          spoken_languages  \\\n",
       "14236  102391382.0     88.0  [{'iso_639_1': 'en', 'name': 'English'}]   \n",
       "\n",
       "         status                tagline       title  video  vote_average  \\\n",
       "14236  Released  This place is so dead  Zombieland  False           7.2   \n",
       "\n",
       "       vote_count  \n",
       "14236      3655.0  "
      ]
     },
     "execution_count": 12,
     "metadata": {},
     "output_type": "execute_result"
    }
   ],
   "source": [
    "TMDB[TMDB['original_title'] == 'Zombieland']"
   ]
  },
  {
   "cell_type": "code",
   "execution_count": 13,
   "metadata": {},
   "outputs": [
    {
     "data": {
      "text/html": [
       "<div>\n",
       "<style scoped>\n",
       "    .dataframe tbody tr th:only-of-type {\n",
       "        vertical-align: middle;\n",
       "    }\n",
       "\n",
       "    .dataframe tbody tr th {\n",
       "        vertical-align: top;\n",
       "    }\n",
       "\n",
       "    .dataframe thead th {\n",
       "        text-align: right;\n",
       "    }\n",
       "</style>\n",
       "<table border=\"1\" class=\"dataframe\">\n",
       "  <thead>\n",
       "    <tr style=\"text-align: right;\">\n",
       "      <th></th>\n",
       "      <th>show_id</th>\n",
       "      <th>type</th>\n",
       "      <th>title</th>\n",
       "      <th>director</th>\n",
       "      <th>cast</th>\n",
       "      <th>country</th>\n",
       "      <th>date_added</th>\n",
       "      <th>release_year</th>\n",
       "      <th>rating</th>\n",
       "      <th>duration</th>\n",
       "      <th>listed_in</th>\n",
       "      <th>description</th>\n",
       "    </tr>\n",
       "  </thead>\n",
       "  <tbody>\n",
       "    <tr>\n",
       "      <th>8804</th>\n",
       "      <td>s8805</td>\n",
       "      <td>Movie</td>\n",
       "      <td>Zombieland</td>\n",
       "      <td>Ruben Fleischer</td>\n",
       "      <td>Jesse Eisenberg, Woody Harrelson, Emma Stone, ...</td>\n",
       "      <td>United States</td>\n",
       "      <td>November 1, 2019</td>\n",
       "      <td>2009</td>\n",
       "      <td>R</td>\n",
       "      <td>88 min</td>\n",
       "      <td>Comedies, Horror Movies</td>\n",
       "      <td>Looking to survive in a world taken over by zo...</td>\n",
       "    </tr>\n",
       "  </tbody>\n",
       "</table>\n",
       "</div>"
      ],
      "text/plain": [
       "     show_id   type       title         director  \\\n",
       "8804   s8805  Movie  Zombieland  Ruben Fleischer   \n",
       "\n",
       "                                                   cast        country  \\\n",
       "8804  Jesse Eisenberg, Woody Harrelson, Emma Stone, ...  United States   \n",
       "\n",
       "            date_added  release_year rating duration                listed_in  \\\n",
       "8804  November 1, 2019          2009      R   88 min  Comedies, Horror Movies   \n",
       "\n",
       "                                            description  \n",
       "8804  Looking to survive in a world taken over by zo...  "
      ]
     },
     "execution_count": 13,
     "metadata": {},
     "output_type": "execute_result"
    }
   ],
   "source": [
    "NT[NT['title'] == 'Zombieland']"
   ]
  },
  {
   "cell_type": "code",
   "execution_count": 14,
   "metadata": {
    "id": "c8JK4DoXxtFA",
    "scrolled": false
   },
   "outputs": [
    {
     "name": "stdout",
     "output_type": "stream",
     "text": [
      "Index(['adult', 'belongs_to_collection', 'budget', 'genres', 'homepage', 'id',\n",
      "       'imdb_id', 'original_language', 'original_title', 'overview',\n",
      "       'popularity', 'poster_path', 'production_companies',\n",
      "       'production_countries', 'release_date', 'revenue', 'runtime',\n",
      "       'spoken_languages', 'status', 'tagline', 'title', 'video',\n",
      "       'vote_average', 'vote_count'],\n",
      "      dtype='object')\n",
      "Index(['show_id', 'type', 'title', 'director', 'cast', 'country', 'date_added',\n",
      "       'release_year', 'rating', 'duration', 'listed_in', 'description'],\n",
      "      dtype='object')\n"
     ]
    }
   ],
   "source": [
    "print(TMDB.columns)\n",
    "print(NT.columns)"
   ]
  },
  {
   "cell_type": "markdown",
   "metadata": {},
   "source": [
    "**Issue and justification:** The TMDB dataset contains many vital variables for our analysis. As a part of our analysis will be ranking the best directors based on the popularity of the movies. For this we will need to merge the TMDB dataset with the Netflix dataset."
   ]
  },
  {
   "cell_type": "markdown",
   "metadata": {
    "id": "lXhGiYyiwwKN"
   },
   "source": [
    "### Tidiness Issue 2: Multiple values stored within a single cell"
   ]
  },
  {
   "cell_type": "code",
   "execution_count": 15,
   "metadata": {},
   "outputs": [
    {
     "name": "stdout",
     "output_type": "stream",
     "text": [
      "[{'id': 16, 'name': 'Animation'}, {'id': 35, 'name': 'Comedy'}, {'id': 10751, 'name': 'Family'}]\n",
      "[{'id': 12, 'name': 'Adventure'}, {'id': 14, 'name': 'Fantasy'}, {'id': 10751, 'name': 'Family'}]\n",
      "[{'id': 10749, 'name': 'Romance'}, {'id': 35, 'name': 'Comedy'}]\n",
      "[{'id': 35, 'name': 'Comedy'}, {'id': 18, 'name': 'Drama'}, {'id': 10749, 'name': 'Romance'}]\n",
      "[{'id': 35, 'name': 'Comedy'}]\n"
     ]
    }
   ],
   "source": [
    "j = 0\n",
    "for i in TMDB['genres']:\n",
    "    if j > 4:\n",
    "        break\n",
    "    print(i)\n",
    "    j += 1"
   ]
  },
  {
   "cell_type": "markdown",
   "metadata": {},
   "source": [
    "**Issue and justification:** \n",
    "Columns like `genre`, `production_companies`, `production_countries`, and `spoken_languages` contain lists of dictionaries stored as strings. This is a data tidiness issue, as it involves multiple values within a single cell, violating the tidy data principle where each cell should contain a single value."
   ]
  },
  {
   "cell_type": "markdown",
   "metadata": {
    "id": "D6gmLnBttpCh"
   },
   "source": [
    "## 3. Clean data"
   ]
  },
  {
   "cell_type": "code",
   "execution_count": 16,
   "metadata": {},
   "outputs": [],
   "source": [
    "df_TMDB = TMDB.copy()\n",
    "df_NT = NT.copy()"
   ]
  },
  {
   "cell_type": "markdown",
   "metadata": {
    "id": "bIUrrfSNyOPR"
   },
   "source": [
    "### **Tidiness Issue 1: Merging the TMDB dataset with Netfilx Datset**"
   ]
  },
  {
   "cell_type": "code",
   "execution_count": 17,
   "metadata": {},
   "outputs": [
    {
     "name": "stdout",
     "output_type": "stream",
     "text": [
      "Index(['adult', 'belongs_to_collection', 'budget', 'genres', 'homepage', 'id',\n",
      "       'imdb_id', 'original_language', 'original_title', 'overview',\n",
      "       'popularity', 'poster_path', 'production_companies',\n",
      "       'production_countries', 'release_date', 'revenue', 'runtime',\n",
      "       'spoken_languages', 'status', 'tagline', 'title', 'video',\n",
      "       'vote_average', 'vote_count'],\n",
      "      dtype='object')\n",
      "Index(['show_id', 'type', 'title', 'director', 'cast', 'country', 'date_added',\n",
      "       'release_year', 'rating', 'duration', 'listed_in', 'description'],\n",
      "      dtype='object')\n"
     ]
    }
   ],
   "source": [
    "#Checking for the columns to merge on\n",
    "print(df_TMDB.columns)\n",
    "print(df_NT.columns)"
   ]
  },
  {
   "cell_type": "code",
   "execution_count": 18,
   "metadata": {},
   "outputs": [],
   "source": [
    "# Convert the release_date column to datetime and extracting year\n",
    "df_TMDB['release_date'] = pd.to_datetime(df_TMDB['release_date'], errors='coerce')\n",
    "df_TMDB['release_year'] = df_TMDB['release_date'].dt.year"
   ]
  },
  {
   "cell_type": "code",
   "execution_count": 19,
   "metadata": {
    "id": "fib0zAm333bn"
   },
   "outputs": [
    {
     "data": {
      "text/html": [
       "<div>\n",
       "<style scoped>\n",
       "    .dataframe tbody tr th:only-of-type {\n",
       "        vertical-align: middle;\n",
       "    }\n",
       "\n",
       "    .dataframe tbody tr th {\n",
       "        vertical-align: top;\n",
       "    }\n",
       "\n",
       "    .dataframe thead th {\n",
       "        text-align: right;\n",
       "    }\n",
       "</style>\n",
       "<table border=\"1\" class=\"dataframe\">\n",
       "  <thead>\n",
       "    <tr style=\"text-align: right;\">\n",
       "      <th></th>\n",
       "      <th>adult</th>\n",
       "      <th>belongs_to_collection</th>\n",
       "      <th>budget</th>\n",
       "      <th>genres</th>\n",
       "      <th>homepage</th>\n",
       "      <th>id</th>\n",
       "      <th>imdb_id</th>\n",
       "      <th>original_language</th>\n",
       "      <th>original_title</th>\n",
       "      <th>overview</th>\n",
       "      <th>popularity</th>\n",
       "      <th>poster_path</th>\n",
       "      <th>production_companies</th>\n",
       "      <th>production_countries</th>\n",
       "      <th>release_date</th>\n",
       "      <th>revenue</th>\n",
       "      <th>runtime</th>\n",
       "      <th>spoken_languages</th>\n",
       "      <th>status</th>\n",
       "      <th>tagline</th>\n",
       "      <th>title_x</th>\n",
       "      <th>video</th>\n",
       "      <th>vote_average</th>\n",
       "      <th>vote_count</th>\n",
       "      <th>release_year</th>\n",
       "      <th>show_id</th>\n",
       "      <th>type</th>\n",
       "      <th>title_y</th>\n",
       "      <th>director</th>\n",
       "      <th>cast</th>\n",
       "      <th>country</th>\n",
       "      <th>date_added</th>\n",
       "      <th>rating</th>\n",
       "      <th>duration</th>\n",
       "      <th>listed_in</th>\n",
       "      <th>description</th>\n",
       "    </tr>\n",
       "  </thead>\n",
       "  <tbody>\n",
       "    <tr>\n",
       "      <th>0</th>\n",
       "      <td>False</td>\n",
       "      <td>{'id': 645, 'name': 'James Bond Collection', '...</td>\n",
       "      <td>58000000</td>\n",
       "      <td>[{'id': 12, 'name': 'Adventure'}, {'id': 28, '...</td>\n",
       "      <td>http://www.mgm.com/view/movie/757/Goldeneye/</td>\n",
       "      <td>710</td>\n",
       "      <td>tt0113189</td>\n",
       "      <td>en</td>\n",
       "      <td>GoldenEye</td>\n",
       "      <td>James Bond must unmask the mysterious head of ...</td>\n",
       "      <td>14.686036</td>\n",
       "      <td>/5c0ovjT41KnYIHYuF4AWsTe3sKh.jpg</td>\n",
       "      <td>[{'name': 'United Artists', 'id': 60}, {'name'...</td>\n",
       "      <td>[{'iso_3166_1': 'GB', 'name': 'United Kingdom'...</td>\n",
       "      <td>1995-11-16</td>\n",
       "      <td>352194034.0</td>\n",
       "      <td>130.0</td>\n",
       "      <td>[{'iso_639_1': 'en', 'name': 'English'}, {'iso...</td>\n",
       "      <td>Released</td>\n",
       "      <td>No limits. No fears. No substitutes.</td>\n",
       "      <td>GoldenEye</td>\n",
       "      <td>False</td>\n",
       "      <td>6.6</td>\n",
       "      <td>1194.0</td>\n",
       "      <td>1995.0</td>\n",
       "      <td>s6867</td>\n",
       "      <td>Movie</td>\n",
       "      <td>GoldenEye</td>\n",
       "      <td>Martin Campbell</td>\n",
       "      <td>Pierce Brosnan, Sean Bean, Izabella Scorupco, ...</td>\n",
       "      <td>United Kingdom, United States</td>\n",
       "      <td>December 31, 2019</td>\n",
       "      <td>PG-13</td>\n",
       "      <td>130 min</td>\n",
       "      <td>Action &amp; Adventure</td>\n",
       "      <td>Pierce Brosnan takes his first turn as debonai...</td>\n",
       "    </tr>\n",
       "    <tr>\n",
       "      <th>1</th>\n",
       "      <td>False</td>\n",
       "      <td>NaN</td>\n",
       "      <td>62000000</td>\n",
       "      <td>[{'id': 35, 'name': 'Comedy'}, {'id': 18, 'nam...</td>\n",
       "      <td>NaN</td>\n",
       "      <td>9087</td>\n",
       "      <td>tt0112346</td>\n",
       "      <td>en</td>\n",
       "      <td>The American President</td>\n",
       "      <td>Widowed U.S. president Andrew Shepherd, one of...</td>\n",
       "      <td>6.318445</td>\n",
       "      <td>/lymPNGLZgPHuqM29rKMGV46ANij.jpg</td>\n",
       "      <td>[{'name': 'Columbia Pictures', 'id': 5}, {'nam...</td>\n",
       "      <td>[{'iso_3166_1': 'US', 'name': 'United States o...</td>\n",
       "      <td>1995-11-17</td>\n",
       "      <td>107879496.0</td>\n",
       "      <td>106.0</td>\n",
       "      <td>[{'iso_639_1': 'en', 'name': 'English'}]</td>\n",
       "      <td>Released</td>\n",
       "      <td>Why can't the most powerful man in the world h...</td>\n",
       "      <td>The American President</td>\n",
       "      <td>False</td>\n",
       "      <td>6.5</td>\n",
       "      <td>199.0</td>\n",
       "      <td>1995.0</td>\n",
       "      <td>s8188</td>\n",
       "      <td>Movie</td>\n",
       "      <td>The American President</td>\n",
       "      <td>Rob Reiner</td>\n",
       "      <td>Michael Douglas, Annette Bening, Martin Sheen,...</td>\n",
       "      <td>United States</td>\n",
       "      <td>January 1, 2021</td>\n",
       "      <td>PG-13</td>\n",
       "      <td>113 min</td>\n",
       "      <td>Comedies, Dramas, Romantic Movies</td>\n",
       "      <td>The widowed president strikes up a romance wit...</td>\n",
       "    </tr>\n",
       "    <tr>\n",
       "      <th>2</th>\n",
       "      <td>False</td>\n",
       "      <td>{'id': 117693, 'name': 'Balto Collection', 'po...</td>\n",
       "      <td>0</td>\n",
       "      <td>[{'id': 10751, 'name': 'Family'}, {'id': 16, '...</td>\n",
       "      <td>NaN</td>\n",
       "      <td>21032</td>\n",
       "      <td>tt0112453</td>\n",
       "      <td>en</td>\n",
       "      <td>Balto</td>\n",
       "      <td>An outcast half-wolf risks his life to prevent...</td>\n",
       "      <td>12.140733</td>\n",
       "      <td>/gV5PCAVCPNxlOLFM1bKk50EqLXO.jpg</td>\n",
       "      <td>[{'name': 'Universal Pictures', 'id': 33}, {'n...</td>\n",
       "      <td>[{'iso_3166_1': 'US', 'name': 'United States o...</td>\n",
       "      <td>1995-12-22</td>\n",
       "      <td>11348324.0</td>\n",
       "      <td>78.0</td>\n",
       "      <td>[{'iso_639_1': 'en', 'name': 'English'}]</td>\n",
       "      <td>Released</td>\n",
       "      <td>Part Dog. Part Wolf. All Hero.</td>\n",
       "      <td>Balto</td>\n",
       "      <td>False</td>\n",
       "      <td>7.1</td>\n",
       "      <td>423.0</td>\n",
       "      <td>1995.0</td>\n",
       "      <td>s6221</td>\n",
       "      <td>Movie</td>\n",
       "      <td>Balto</td>\n",
       "      <td>Simon Wells</td>\n",
       "      <td>Kevin Bacon, Bob Hoskins, Bridget Fonda, Jim C...</td>\n",
       "      <td>United States</td>\n",
       "      <td>April 1, 2018</td>\n",
       "      <td>G</td>\n",
       "      <td>78 min</td>\n",
       "      <td>Children &amp; Family Movies, Dramas</td>\n",
       "      <td>Balto, who is half wolf and half dog, endures ...</td>\n",
       "    </tr>\n",
       "  </tbody>\n",
       "</table>\n",
       "</div>"
      ],
      "text/plain": [
       "   adult                              belongs_to_collection    budget  \\\n",
       "0  False  {'id': 645, 'name': 'James Bond Collection', '...  58000000   \n",
       "1  False                                                NaN  62000000   \n",
       "2  False  {'id': 117693, 'name': 'Balto Collection', 'po...         0   \n",
       "\n",
       "                                              genres  \\\n",
       "0  [{'id': 12, 'name': 'Adventure'}, {'id': 28, '...   \n",
       "1  [{'id': 35, 'name': 'Comedy'}, {'id': 18, 'nam...   \n",
       "2  [{'id': 10751, 'name': 'Family'}, {'id': 16, '...   \n",
       "\n",
       "                                       homepage     id    imdb_id  \\\n",
       "0  http://www.mgm.com/view/movie/757/Goldeneye/    710  tt0113189   \n",
       "1                                           NaN   9087  tt0112346   \n",
       "2                                           NaN  21032  tt0112453   \n",
       "\n",
       "  original_language          original_title  \\\n",
       "0                en               GoldenEye   \n",
       "1                en  The American President   \n",
       "2                en                   Balto   \n",
       "\n",
       "                                            overview popularity  \\\n",
       "0  James Bond must unmask the mysterious head of ...  14.686036   \n",
       "1  Widowed U.S. president Andrew Shepherd, one of...   6.318445   \n",
       "2  An outcast half-wolf risks his life to prevent...  12.140733   \n",
       "\n",
       "                        poster_path  \\\n",
       "0  /5c0ovjT41KnYIHYuF4AWsTe3sKh.jpg   \n",
       "1  /lymPNGLZgPHuqM29rKMGV46ANij.jpg   \n",
       "2  /gV5PCAVCPNxlOLFM1bKk50EqLXO.jpg   \n",
       "\n",
       "                                production_companies  \\\n",
       "0  [{'name': 'United Artists', 'id': 60}, {'name'...   \n",
       "1  [{'name': 'Columbia Pictures', 'id': 5}, {'nam...   \n",
       "2  [{'name': 'Universal Pictures', 'id': 33}, {'n...   \n",
       "\n",
       "                                production_countries release_date  \\\n",
       "0  [{'iso_3166_1': 'GB', 'name': 'United Kingdom'...   1995-11-16   \n",
       "1  [{'iso_3166_1': 'US', 'name': 'United States o...   1995-11-17   \n",
       "2  [{'iso_3166_1': 'US', 'name': 'United States o...   1995-12-22   \n",
       "\n",
       "       revenue  runtime                                   spoken_languages  \\\n",
       "0  352194034.0    130.0  [{'iso_639_1': 'en', 'name': 'English'}, {'iso...   \n",
       "1  107879496.0    106.0           [{'iso_639_1': 'en', 'name': 'English'}]   \n",
       "2   11348324.0     78.0           [{'iso_639_1': 'en', 'name': 'English'}]   \n",
       "\n",
       "     status                                            tagline  \\\n",
       "0  Released               No limits. No fears. No substitutes.   \n",
       "1  Released  Why can't the most powerful man in the world h...   \n",
       "2  Released                     Part Dog. Part Wolf. All Hero.   \n",
       "\n",
       "                  title_x  video  vote_average  vote_count  release_year  \\\n",
       "0               GoldenEye  False           6.6      1194.0        1995.0   \n",
       "1  The American President  False           6.5       199.0        1995.0   \n",
       "2                   Balto  False           7.1       423.0        1995.0   \n",
       "\n",
       "  show_id   type                 title_y         director  \\\n",
       "0   s6867  Movie               GoldenEye  Martin Campbell   \n",
       "1   s8188  Movie  The American President       Rob Reiner   \n",
       "2   s6221  Movie                   Balto      Simon Wells   \n",
       "\n",
       "                                                cast  \\\n",
       "0  Pierce Brosnan, Sean Bean, Izabella Scorupco, ...   \n",
       "1  Michael Douglas, Annette Bening, Martin Sheen,...   \n",
       "2  Kevin Bacon, Bob Hoskins, Bridget Fonda, Jim C...   \n",
       "\n",
       "                         country         date_added rating duration  \\\n",
       "0  United Kingdom, United States  December 31, 2019  PG-13  130 min   \n",
       "1                  United States    January 1, 2021  PG-13  113 min   \n",
       "2                  United States      April 1, 2018      G   78 min   \n",
       "\n",
       "                           listed_in  \\\n",
       "0                 Action & Adventure   \n",
       "1  Comedies, Dramas, Romantic Movies   \n",
       "2   Children & Family Movies, Dramas   \n",
       "\n",
       "                                         description  \n",
       "0  Pierce Brosnan takes his first turn as debonai...  \n",
       "1  The widowed president strikes up a romance wit...  \n",
       "2  Balto, who is half wolf and half dog, endures ...  "
      ]
     },
     "execution_count": 19,
     "metadata": {},
     "output_type": "execute_result"
    }
   ],
   "source": [
    "#Merging on Movie Title and Release Year\n",
    "df = pd.merge(df_TMDB, df_NT, left_on=['original_title', 'release_year'], right_on=['title', 'release_year'], how='inner')\n",
    "df.head(3)"
   ]
  },
  {
   "cell_type": "markdown",
   "metadata": {},
   "source": [
    "**Justification:** We merged the dataset into 1 using the common column of Titles and Release Year. Release Year was used as multiple entries have common title name which can cause mismatch in the merger."
   ]
  },
  {
   "cell_type": "markdown",
   "metadata": {
    "id": "o51Bt8kwyTzk"
   },
   "source": [
    "### **Tidiness Issue 2: Unpacking and Splitting Nested List Data into Separate Columns**"
   ]
  },
  {
   "cell_type": "code",
   "execution_count": 20,
   "metadata": {},
   "outputs": [],
   "source": [
    "# Columns that need to be split\n",
    "split_cols = ['production_companies','production_countries', 'genres', 'spoken_languages', 'belongs_to_collection']"
   ]
  },
  {
   "cell_type": "code",
   "execution_count": 21,
   "metadata": {
    "id": "7zW8O5yx4Y9O"
   },
   "outputs": [],
   "source": [
    "#Creating a function to split the columns\n",
    "def process_columns(df, split_cols):\n",
    "    for col in split_cols:\n",
    "        df[col] = df[col].apply(lambda x: ast.literal_eval(x) if not pd.isna(x) and x != 'nan' else np.nan)\n",
    "        df[col] = df[col].apply(lambda x: [d['name'] for d in x] if isinstance(x, list) else [])\n",
    "        df[col] = df[col].apply(lambda x: '|'.join(x))\n",
    "        temp_df = df[col].str.split('|', expand=True)\n",
    "        temp_df.columns = [f\"{col}_{i}\" for i in range(temp_df.shape[1])]\n",
    "        df = pd.concat([df, temp_df], axis=1)\n",
    "        df.drop([col], inplace=True, axis=1)\n",
    "    \n",
    "    return df\n",
    "\n",
    "df = process_columns(df, split_cols)"
   ]
  },
  {
   "cell_type": "code",
   "execution_count": 22,
   "metadata": {},
   "outputs": [
    {
     "data": {
      "text/html": [
       "<div>\n",
       "<style scoped>\n",
       "    .dataframe tbody tr th:only-of-type {\n",
       "        vertical-align: middle;\n",
       "    }\n",
       "\n",
       "    .dataframe tbody tr th {\n",
       "        vertical-align: top;\n",
       "    }\n",
       "\n",
       "    .dataframe thead th {\n",
       "        text-align: right;\n",
       "    }\n",
       "</style>\n",
       "<table border=\"1\" class=\"dataframe\">\n",
       "  <thead>\n",
       "    <tr style=\"text-align: right;\">\n",
       "      <th></th>\n",
       "      <th>production_companies_0</th>\n",
       "      <th>production_companies_1</th>\n",
       "      <th>production_companies_2</th>\n",
       "      <th>production_companies_3</th>\n",
       "      <th>production_companies_4</th>\n",
       "      <th>production_companies_5</th>\n",
       "      <th>production_companies_6</th>\n",
       "      <th>production_companies_7</th>\n",
       "      <th>production_companies_8</th>\n",
       "      <th>production_companies_9</th>\n",
       "      <th>production_companies_10</th>\n",
       "      <th>production_companies_11</th>\n",
       "      <th>production_companies_12</th>\n",
       "      <th>production_companies_13</th>\n",
       "      <th>production_companies_14</th>\n",
       "      <th>production_companies_15</th>\n",
       "      <th>production_companies_16</th>\n",
       "      <th>production_countries_0</th>\n",
       "      <th>production_countries_1</th>\n",
       "      <th>production_countries_2</th>\n",
       "      <th>production_countries_3</th>\n",
       "      <th>production_countries_4</th>\n",
       "      <th>production_countries_5</th>\n",
       "      <th>production_countries_6</th>\n",
       "      <th>production_countries_7</th>\n",
       "      <th>production_countries_8</th>\n",
       "      <th>production_countries_9</th>\n",
       "      <th>genres_0</th>\n",
       "      <th>genres_1</th>\n",
       "      <th>genres_2</th>\n",
       "      <th>genres_3</th>\n",
       "      <th>genres_4</th>\n",
       "      <th>genres_5</th>\n",
       "      <th>genres_6</th>\n",
       "      <th>spoken_languages_0</th>\n",
       "      <th>spoken_languages_1</th>\n",
       "      <th>spoken_languages_2</th>\n",
       "      <th>spoken_languages_3</th>\n",
       "      <th>spoken_languages_4</th>\n",
       "      <th>spoken_languages_5</th>\n",
       "      <th>spoken_languages_6</th>\n",
       "      <th>spoken_languages_7</th>\n",
       "      <th>spoken_languages_8</th>\n",
       "      <th>belongs_to_collection_0</th>\n",
       "    </tr>\n",
       "  </thead>\n",
       "  <tbody>\n",
       "    <tr>\n",
       "      <th>0</th>\n",
       "      <td>United Artists</td>\n",
       "      <td>Eon Productions</td>\n",
       "      <td>None</td>\n",
       "      <td>None</td>\n",
       "      <td>None</td>\n",
       "      <td>None</td>\n",
       "      <td>None</td>\n",
       "      <td>None</td>\n",
       "      <td>None</td>\n",
       "      <td>None</td>\n",
       "      <td>None</td>\n",
       "      <td>None</td>\n",
       "      <td>None</td>\n",
       "      <td>None</td>\n",
       "      <td>None</td>\n",
       "      <td>None</td>\n",
       "      <td>None</td>\n",
       "      <td>United Kingdom</td>\n",
       "      <td>United States of America</td>\n",
       "      <td>None</td>\n",
       "      <td>None</td>\n",
       "      <td>None</td>\n",
       "      <td>None</td>\n",
       "      <td>None</td>\n",
       "      <td>None</td>\n",
       "      <td>None</td>\n",
       "      <td>None</td>\n",
       "      <td>Adventure</td>\n",
       "      <td>Action</td>\n",
       "      <td>Thriller</td>\n",
       "      <td>None</td>\n",
       "      <td>None</td>\n",
       "      <td>None</td>\n",
       "      <td>None</td>\n",
       "      <td>English</td>\n",
       "      <td>Pусский</td>\n",
       "      <td>Español</td>\n",
       "      <td>None</td>\n",
       "      <td>None</td>\n",
       "      <td>None</td>\n",
       "      <td>None</td>\n",
       "      <td>None</td>\n",
       "      <td>None</td>\n",
       "      <td></td>\n",
       "    </tr>\n",
       "    <tr>\n",
       "      <th>1</th>\n",
       "      <td>Columbia Pictures</td>\n",
       "      <td>Castle Rock Entertainment</td>\n",
       "      <td>None</td>\n",
       "      <td>None</td>\n",
       "      <td>None</td>\n",
       "      <td>None</td>\n",
       "      <td>None</td>\n",
       "      <td>None</td>\n",
       "      <td>None</td>\n",
       "      <td>None</td>\n",
       "      <td>None</td>\n",
       "      <td>None</td>\n",
       "      <td>None</td>\n",
       "      <td>None</td>\n",
       "      <td>None</td>\n",
       "      <td>None</td>\n",
       "      <td>None</td>\n",
       "      <td>United States of America</td>\n",
       "      <td>None</td>\n",
       "      <td>None</td>\n",
       "      <td>None</td>\n",
       "      <td>None</td>\n",
       "      <td>None</td>\n",
       "      <td>None</td>\n",
       "      <td>None</td>\n",
       "      <td>None</td>\n",
       "      <td>None</td>\n",
       "      <td>Comedy</td>\n",
       "      <td>Drama</td>\n",
       "      <td>Romance</td>\n",
       "      <td>None</td>\n",
       "      <td>None</td>\n",
       "      <td>None</td>\n",
       "      <td>None</td>\n",
       "      <td>English</td>\n",
       "      <td>None</td>\n",
       "      <td>None</td>\n",
       "      <td>None</td>\n",
       "      <td>None</td>\n",
       "      <td>None</td>\n",
       "      <td>None</td>\n",
       "      <td>None</td>\n",
       "      <td>None</td>\n",
       "      <td></td>\n",
       "    </tr>\n",
       "    <tr>\n",
       "      <th>2</th>\n",
       "      <td>Universal Pictures</td>\n",
       "      <td>Amblin Entertainment</td>\n",
       "      <td>Amblimation</td>\n",
       "      <td>None</td>\n",
       "      <td>None</td>\n",
       "      <td>None</td>\n",
       "      <td>None</td>\n",
       "      <td>None</td>\n",
       "      <td>None</td>\n",
       "      <td>None</td>\n",
       "      <td>None</td>\n",
       "      <td>None</td>\n",
       "      <td>None</td>\n",
       "      <td>None</td>\n",
       "      <td>None</td>\n",
       "      <td>None</td>\n",
       "      <td>None</td>\n",
       "      <td>United States of America</td>\n",
       "      <td>None</td>\n",
       "      <td>None</td>\n",
       "      <td>None</td>\n",
       "      <td>None</td>\n",
       "      <td>None</td>\n",
       "      <td>None</td>\n",
       "      <td>None</td>\n",
       "      <td>None</td>\n",
       "      <td>None</td>\n",
       "      <td>Family</td>\n",
       "      <td>Animation</td>\n",
       "      <td>Adventure</td>\n",
       "      <td>None</td>\n",
       "      <td>None</td>\n",
       "      <td>None</td>\n",
       "      <td>None</td>\n",
       "      <td>English</td>\n",
       "      <td>None</td>\n",
       "      <td>None</td>\n",
       "      <td>None</td>\n",
       "      <td>None</td>\n",
       "      <td>None</td>\n",
       "      <td>None</td>\n",
       "      <td>None</td>\n",
       "      <td>None</td>\n",
       "      <td></td>\n",
       "    </tr>\n",
       "  </tbody>\n",
       "</table>\n",
       "</div>"
      ],
      "text/plain": [
       "  production_companies_0     production_companies_1 production_companies_2  \\\n",
       "0         United Artists            Eon Productions                   None   \n",
       "1      Columbia Pictures  Castle Rock Entertainment                   None   \n",
       "2     Universal Pictures       Amblin Entertainment            Amblimation   \n",
       "\n",
       "  production_companies_3 production_companies_4 production_companies_5  \\\n",
       "0                   None                   None                   None   \n",
       "1                   None                   None                   None   \n",
       "2                   None                   None                   None   \n",
       "\n",
       "  production_companies_6 production_companies_7 production_companies_8  \\\n",
       "0                   None                   None                   None   \n",
       "1                   None                   None                   None   \n",
       "2                   None                   None                   None   \n",
       "\n",
       "  production_companies_9 production_companies_10 production_companies_11  \\\n",
       "0                   None                    None                    None   \n",
       "1                   None                    None                    None   \n",
       "2                   None                    None                    None   \n",
       "\n",
       "  production_companies_12 production_companies_13 production_companies_14  \\\n",
       "0                    None                    None                    None   \n",
       "1                    None                    None                    None   \n",
       "2                    None                    None                    None   \n",
       "\n",
       "  production_companies_15 production_companies_16    production_countries_0  \\\n",
       "0                    None                    None            United Kingdom   \n",
       "1                    None                    None  United States of America   \n",
       "2                    None                    None  United States of America   \n",
       "\n",
       "     production_countries_1 production_countries_2 production_countries_3  \\\n",
       "0  United States of America                   None                   None   \n",
       "1                      None                   None                   None   \n",
       "2                      None                   None                   None   \n",
       "\n",
       "  production_countries_4 production_countries_5 production_countries_6  \\\n",
       "0                   None                   None                   None   \n",
       "1                   None                   None                   None   \n",
       "2                   None                   None                   None   \n",
       "\n",
       "  production_countries_7 production_countries_8 production_countries_9  \\\n",
       "0                   None                   None                   None   \n",
       "1                   None                   None                   None   \n",
       "2                   None                   None                   None   \n",
       "\n",
       "    genres_0   genres_1   genres_2 genres_3 genres_4 genres_5 genres_6  \\\n",
       "0  Adventure     Action   Thriller     None     None     None     None   \n",
       "1     Comedy      Drama    Romance     None     None     None     None   \n",
       "2     Family  Animation  Adventure     None     None     None     None   \n",
       "\n",
       "  spoken_languages_0 spoken_languages_1 spoken_languages_2 spoken_languages_3  \\\n",
       "0            English            Pусский            Español               None   \n",
       "1            English               None               None               None   \n",
       "2            English               None               None               None   \n",
       "\n",
       "  spoken_languages_4 spoken_languages_5 spoken_languages_6 spoken_languages_7  \\\n",
       "0               None               None               None               None   \n",
       "1               None               None               None               None   \n",
       "2               None               None               None               None   \n",
       "\n",
       "  spoken_languages_8 belongs_to_collection_0  \n",
       "0               None                          \n",
       "1               None                          \n",
       "2               None                          "
      ]
     },
     "execution_count": 22,
     "metadata": {},
     "output_type": "execute_result"
    }
   ],
   "source": [
    "df.iloc[0:3,31:]"
   ]
  },
  {
   "cell_type": "markdown",
   "metadata": {},
   "source": [
    "**Justification:** We used the .literal_eval to evaluate the string in the columns and then extract the intended values from the dictionary. We then concatinate all values extracted with a '|' in between each value and then split the string on '|' into different columns."
   ]
  },
  {
   "cell_type": "markdown",
   "metadata": {
    "id": "FmFhN52Yyn3l"
   },
   "source": [
    "### **Quality Issue 1: Standardizing Data Types for Consistency**"
   ]
  },
  {
   "cell_type": "code",
   "execution_count": 23,
   "metadata": {
    "id": "oUBee-LPytkv"
   },
   "outputs": [],
   "source": [
    "# Creating lists of column headers that need datatype correction\n",
    "\n",
    "to_bool = ['adult', 'video']\n",
    "to_int = ['id', 'budget', 'release_year', 'revenue']\n",
    "to_float = ['popularity']\n",
    "to_date = ['date_added']\n",
    "\n",
    "# Creating functions to correct datatypes\n",
    "\n",
    "def ToBool(df,cols):\n",
    "    for i in cols:\n",
    "        df[i] = df[i].astype(bool)\n",
    "\n",
    "def ToInt(df,cols):\n",
    "    for i in cols:\n",
    "        df[i] = df[i].astype(np.int64)\n",
    "        \n",
    "def ToFloat(df,cols):\n",
    "    for i in cols:\n",
    "        df[i] = df[i].astype(np.float64)\n",
    "\n",
    "def ToDate(df,cols):\n",
    "    for i in cols:\n",
    "        df[i] = pd.to_datetime(df[i])\n",
    "\n",
    "ToBool(df,to_bool)\n",
    "ToInt(df,to_int)\n",
    "ToFloat(df,to_float)\n",
    "ToDate(df,to_date)"
   ]
  },
  {
   "cell_type": "code",
   "execution_count": 24,
   "metadata": {},
   "outputs": [
    {
     "data": {
      "text/plain": [
       "adult                        bool\n",
       "budget                      int64\n",
       "homepage                   object\n",
       "id                          int64\n",
       "imdb_id                    object\n",
       "                            ...  \n",
       "spoken_languages_5         object\n",
       "spoken_languages_6         object\n",
       "spoken_languages_7         object\n",
       "spoken_languages_8         object\n",
       "belongs_to_collection_0    object\n",
       "Length: 75, dtype: object"
      ]
     },
     "execution_count": 24,
     "metadata": {},
     "output_type": "execute_result"
    }
   ],
   "source": [
    "df.dtypes"
   ]
  },
  {
   "cell_type": "markdown",
   "metadata": {},
   "source": [
    "**Justification:** This fix ensures that each column in the dataset is converted to its appropriate data type, improving data consistency and enabling us to work with the data in the appropriate manner."
   ]
  },
  {
   "cell_type": "markdown",
   "metadata": {
    "id": "n_DAUbJrymBL"
   },
   "source": [
    "### Quality Issue 2: Adjusting for Inflation"
   ]
  },
  {
   "cell_type": "code",
   "execution_count": 25,
   "metadata": {},
   "outputs": [],
   "source": [
    "# Convering and organising the data\n",
    "INF = pd.DataFrame(rows[1:], columns=rows[0])\n",
    "INF = INF[['Year','Inflation Rate YOY, From Previous Dec.']]\n",
    "INF.rename(columns={'Inflation Rate YOY, From Previous Dec.': 'inflation_rate'}, inplace=True)\n",
    "INF['Year'] = INF['Year'].astype(int)\n",
    "\n",
    "# Filtering for necessary years\n",
    "INF = INF[INF['Year'].isin(list(range(df['release_year'].min(), df['release_year'].max() + 1)))]\n",
    "\n",
    "# Convert the inflation_rate to a multiplier (1 + inflation_rate / 100)\n",
    "INF['inflation_rate'] = INF['inflation_rate'].str.replace('%', '').astype(float)"
   ]
  },
  {
   "cell_type": "code",
   "execution_count": 26,
   "metadata": {},
   "outputs": [
    {
     "data": {
      "text/html": [
       "<div>\n",
       "<style scoped>\n",
       "    .dataframe tbody tr th:only-of-type {\n",
       "        vertical-align: middle;\n",
       "    }\n",
       "\n",
       "    .dataframe tbody tr th {\n",
       "        vertical-align: top;\n",
       "    }\n",
       "\n",
       "    .dataframe thead th {\n",
       "        text-align: right;\n",
       "    }\n",
       "</style>\n",
       "<table border=\"1\" class=\"dataframe\">\n",
       "  <thead>\n",
       "    <tr style=\"text-align: right;\">\n",
       "      <th></th>\n",
       "      <th>Year</th>\n",
       "      <th>inflation_rate</th>\n",
       "      <th>adjustment_factor</th>\n",
       "    </tr>\n",
       "  </thead>\n",
       "  <tbody>\n",
       "    <tr>\n",
       "      <th>13</th>\n",
       "      <td>1942</td>\n",
       "      <td>9.0</td>\n",
       "      <td>15.874485</td>\n",
       "    </tr>\n",
       "    <tr>\n",
       "      <th>14</th>\n",
       "      <td>1943</td>\n",
       "      <td>3.0</td>\n",
       "      <td>14.563748</td>\n",
       "    </tr>\n",
       "    <tr>\n",
       "      <th>15</th>\n",
       "      <td>1944</td>\n",
       "      <td>2.3</td>\n",
       "      <td>14.139561</td>\n",
       "    </tr>\n",
       "  </tbody>\n",
       "</table>\n",
       "</div>"
      ],
      "text/plain": [
       "    Year  inflation_rate  adjustment_factor\n",
       "13  1942             9.0          15.874485\n",
       "14  1943             3.0          14.563748\n",
       "15  1944             2.3          14.139561"
      ]
     },
     "execution_count": 26,
     "metadata": {},
     "output_type": "execute_result"
    }
   ],
   "source": [
    "# Initialize the adjustment factor for 2018\n",
    "INF['adjustment_factor'] = 1.000000\n",
    "\n",
    "# Loop through the DataFrame in reverse order (starting from 2017 to 1942)\n",
    "for i in range(len(INF) - 2, -1, -1):\n",
    "    INF.iloc[i, INF.columns.get_loc('adjustment_factor')] = (1 + INF.iloc[i, INF.columns.get_loc('inflation_rate')] / 100) * INF.iloc[i + 1, INF.columns.get_loc('adjustment_factor')]\n",
    "INF.head(3)"
   ]
  },
  {
   "cell_type": "code",
   "execution_count": 27,
   "metadata": {},
   "outputs": [],
   "source": [
    "# Mapping the adjustment factor to the respective movies by using the common columns of release year\n",
    "df = pd.merge(df, INF, left_on='release_year', right_on='Year', how='left')"
   ]
  },
  {
   "cell_type": "code",
   "execution_count": 28,
   "metadata": {},
   "outputs": [],
   "source": [
    "# Calculating the adjusted budget and adjusted revenue\n",
    "df['adj_budget'] = df['budget'] * df['adjustment_factor']\n",
    "df['adj_revenue'] = df['revenue'] * df['adjustment_factor']"
   ]
  },
  {
   "cell_type": "markdown",
   "metadata": {},
   "source": [
    "**Justification:** The budget and revenue mentioned in the TMDB dataset has not been adjusted for inflation. To even the playing field and make for better analysis, we webscraped a table with inflation rates for individual years and used it to calculate inflation adjusted values for the budget and revenue."
   ]
  },
  {
   "cell_type": "markdown",
   "metadata": {},
   "source": [
    "### **Remove unnecessary variables and combine datasets**\n",
    "\n",
    "Depending on the datasets, you can also peform the combination before the cleaning steps."
   ]
  },
  {
   "cell_type": "code",
   "execution_count": 29,
   "metadata": {},
   "outputs": [],
   "source": [
    "# Calculating profit and profit percentage\n",
    "df['profit'] = df['adj_revenue']-df['adj_budget']\n",
    "df['profit_pcnt'] = df['profit']/df['adj_budget']"
   ]
  },
  {
   "cell_type": "code",
   "execution_count": 30,
   "metadata": {},
   "outputs": [],
   "source": [
    "# Filtering to only keep necessary columns\n",
    "df1 = df[['release_year', 'Year', 'original_title', 'adj_budget', 'adj_revenue', 'profit', 'profit_pcnt', 'popularity', \n",
    "    'genres_0', 'genres_1', 'genres_2', 'genres_3', 'genres_4', 'genres_5', 'genres_6',\n",
    "    'spoken_languages_0', 'original_language', 'vote_count','vote_average','adult','belongs_to_collection_0', 'director']]"
   ]
  },
  {
   "cell_type": "markdown",
   "metadata": {
    "id": "F42urHuzttjF"
   },
   "source": [
    "## 4. Update your data store"
   ]
  },
  {
   "cell_type": "code",
   "execution_count": 31,
   "metadata": {
    "id": "V3uay7EJUV_L"
   },
   "outputs": [],
   "source": [
    "# Saving it in CSV format to cleaned_movie_data.csv\n",
    "df1.to_csv('cleaned_movie_data.csv', index=False)"
   ]
  },
  {
   "cell_type": "markdown",
   "metadata": {
    "id": "cGy_yddGtzhM"
   },
   "source": [
    "## 5. Answer the research question\n",
    "\n",
    "### **5.1:** Define and answer the research question "
   ]
  },
  {
   "cell_type": "markdown",
   "metadata": {
    "id": "gjedE4s4ZkEd"
   },
   "source": [
    "1) Is there a significant difference in the median profits of Netflix movies where English is the primary language compared to those where English is not the primary language?\n",
    "\n",
    "2) Which directors have the highest average vote for their movies on Netflix?"
   ]
  },
  {
   "cell_type": "code",
   "execution_count": 32,
   "metadata": {
    "id": "Lkw3rW9kZmOm"
   },
   "outputs": [],
   "source": [
    "# Creating separate dataframes for english and non-english movies\n",
    "df1['eng/non'] = df1['spoken_languages_0'].apply(lambda x: \"English\" if 'English' in x else \"Non-English\")\n",
    "df1 = df1[(df1['adj_budget']>100)&(df1['adj_revenue']>100)]"
   ]
  },
  {
   "cell_type": "code",
   "execution_count": 33,
   "metadata": {},
   "outputs": [
    {
     "name": "stdout",
     "output_type": "stream",
     "text": [
      "               adj_budget   adj_revenue        profit  profit_pcnt\n",
      "eng/non                                                           \n",
      "English      5.607000e+07  1.757299e+08  1.196599e+08     2.134117\n",
      "Non-English  3.569672e+07  1.207945e+08  8.509783e+07     2.383912\n"
     ]
    }
   ],
   "source": [
    "# Grouping the dataset by the english/non-english column and calculating mean profit percentage of both\n",
    "df_eng_non = df1.groupby('eng/non').agg({'adj_budget':'mean', 'adj_revenue':'mean'})\n",
    "df_eng_non['profit'] = df_eng_non['adj_revenue'] - df_eng_non['adj_budget']\n",
    "df_eng_non['profit_pcnt'] = df_eng_non['profit']/df_eng_non['adj_budget']\n",
    "print(df_eng_non)"
   ]
  },
  {
   "cell_type": "code",
   "execution_count": 34,
   "metadata": {},
   "outputs": [
    {
     "data": {
      "image/png": "[encoded data removed]",
      "text/plain": [
       "<Figure size 700x600 with 1 Axes>"
      ]
     },
     "metadata": {},
     "output_type": "display_data"
    }
   ],
   "source": [
    "# Plotting the figure\n",
    "fig, ax = plt.subplots(figsize=(7, 6))\n",
    "width = 0.35\n",
    "x = np.arange(len(df_eng_non))\n",
    "\n",
    "# Plotting the bars for 'budget' and 'revenue'\n",
    "ax.bar(x - width/2, df_eng_non['adj_budget'], width, label='Budget', color='#FFA07A')\n",
    "ax.bar(x + width/2, df_eng_non['adj_revenue'], width, label='Revenue', color='skyblue')\n",
    "\n",
    "# Adding labels, title and custom x-axis tick labels, etc.\n",
    "ax.set_xlabel('Language Category')\n",
    "ax.set_ylabel('Dollars (10M)')\n",
    "ax.set_title('Comparison of Average Budget and Revenue by Language Category', pad=20)\n",
    "ax.set_xticks(x)\n",
    "ax.set_xticklabels(df_eng_non.index)\n",
    "ax.legend()\n",
    "plt.show()"
   ]
  },
  {
   "cell_type": "code",
   "execution_count": 35,
   "metadata": {},
   "outputs": [
    {
     "data": {
      "image/png": "[encoded data removed]",
      "text/plain": [
       "<Figure size 400x500 with 1 Axes>"
      ]
     },
     "metadata": {},
     "output_type": "display_data"
    }
   ],
   "source": [
    "# Setting up the plot\n",
    "fig, ax = plt.subplots(figsize=(4, 5))\n",
    "width = 0.7\n",
    "x = np.arange(len(df_eng_non))\n",
    "\n",
    "# Plotting the bars for 'profit_pcnt'\n",
    "ax.bar(x, df_eng_non['profit_pcnt'], width, color='lightgreen')\n",
    "\n",
    "# Adding labels, title and custom x-axis tick labels, etc.\n",
    "ax.set_xlabel('Language Category')\n",
    "ax.set_ylabel('Profit Proportion')\n",
    "ax.set_title('Comparison of Average Profit Proportion by Language Category')\n",
    "ax.set_xticks(x)\n",
    "ax.set_xticklabels(df_eng_non.index)\n",
    "ax.set_ylim(0, df_eng_non['profit_pcnt'].max() * 1.2)\n",
    "plt.show()"
   ]
  },
  {
   "cell_type": "markdown",
   "metadata": {},
   "source": [
    "**Answer to research question:** \n",
    "\n",
    "We see that non-English movies have a much smaller budget compared to English movies. However, despite these smaller budgets, the profit percentages are relatively close to each other. With English movies having an average profit of 216% and non-English movies having an average profit of 245%, non-English movies earn approximately 13% more profit than English movies on average. This suggests that, relative to their budget, non-English movies are yielding slightly higher returns, even though they start with a smaller financial investment."
   ]
  },
  {
   "cell_type": "code",
   "execution_count": 36,
   "metadata": {
    "id": "6fdK_8ZGZm9R"
   },
   "outputs": [],
   "source": [
    "# We want to exclude movies which have multiple directors\n",
    "df1 = df1[~df1['director'].str.contains(',', na=False)]"
   ]
  },
  {
   "cell_type": "code",
   "execution_count": 37,
   "metadata": {},
   "outputs": [
    {
     "data": {
      "image/png": "[encoded data removed]",
      "text/plain": [
       "<Figure size 1000x800 with 1 Axes>"
      ]
     },
     "metadata": {},
     "output_type": "display_data"
    }
   ],
   "source": [
    "director_pop = df1.groupby('director').agg({'vote_average': 'mean'}).sort_values(by='vote_average', ascending=True)\n",
    "\n",
    "# Set up the figure and axis\n",
    "fig, ax = plt.subplots(figsize=(10, 8))\n",
    "\n",
    "# Plot a horizontal bar chart\n",
    "ax.barh(director_pop.index[-10:], director_pop['vote_average'][-10:], color='skyblue')\n",
    "\n",
    "# Adding labels and title\n",
    "ax.set_xlabel('Average Vote Average')\n",
    "ax.set_ylabel('Director')\n",
    "ax.set_title('Average Movie Vote Average by Director')\n",
    "\n",
    "# Adjusting layout for better visualization\n",
    "plt.tight_layout()\n",
    "plt.show()"
   ]
  },
  {
   "cell_type": "code",
   "execution_count": 38,
   "metadata": {},
   "outputs": [
    {
     "name": "stdout",
     "output_type": "stream",
     "text": [
      "                   vote_average\n",
      "director                       \n",
      "Tony Kaye                   8.2\n",
      "Christopher Nolan           8.1\n",
      "Roman Polański              8.1\n",
      "Lenny Abrahamson            8.1\n",
      "Jun Lana                    8.0\n",
      "Jean-Marc Vallée            7.9\n",
      "Tate Taylor                 7.9\n",
      "Spike Jonze                 7.9\n",
      "Matt Ross                   7.9\n",
      "Richard Curtis              7.8\n"
     ]
    }
   ],
   "source": [
    "print(director_pop[:-11:-1])"
   ]
  },
  {
   "cell_type": "code",
   "execution_count": 39,
   "metadata": {
    "scrolled": false
   },
   "outputs": [
    {
     "name": "stdout",
     "output_type": "stream",
     "text": [
      "Director: Tony Kaye | Movie: 'American History X' | Vote Average: 8.2\n",
      "Director: Christopher Nolan | Movie: 'Inception' | Vote Average: 8.1\n",
      "Director: Roman Polański | Movie: 'The Pianist' | Vote Average: 8.1\n",
      "Director: Lenny Abrahamson | Movie: 'Room' | Vote Average: 8.1\n",
      "Director: Jun Lana | Movie: 'Bwakaw' | Vote Average: 8.0\n",
      "Director: Jean-Marc Vallée | Movie: 'Dallas Buyers Club' | Vote Average: 7.9\n",
      "Director: Tate Taylor | Movie: 'The Help' | Vote Average: 7.9\n",
      "Director: Spike Jonze | Movie: 'Her' | Vote Average: 7.9\n",
      "Director: Matt Ross | Movie: 'Captain Fantastic' | Vote Average: 7.9\n",
      "Director: Richard Curtis | Movie: 'About Time' | Vote Average: 7.8\n"
     ]
    }
   ],
   "source": [
    "# Filter only the directors in the top 11 (based on vote_average)\n",
    "top_directors = director_pop.index[-10:]\n",
    "\n",
    "# Loop through only the top 11 directors\n",
    "for i in top_directors[::-1]:\n",
    "    ref = df1['director'] == i\n",
    "    movie_titles = df1['original_title'][ref].values\n",
    "    movie_vote_averages = df1['vote_average'][ref].values\n",
    "\n",
    "    # Print each movie's title and vote_average for the director\n",
    "    for title, vote_average in zip(movie_titles, movie_vote_averages):\n",
    "        print(f\"Director: {i} | Movie: '{title}' | Vote Average: {vote_average}\")"
   ]
  },
  {
   "cell_type": "markdown",
   "metadata": {
    "id": "K5RgvMGUZoHn"
   },
   "source": [
    "**Answer to research question:** \n",
    "\n",
    "Here are the **top 10 directors** along with the movies they directed and their vote averages:\n",
    "\n",
    "**Tony Kaye** | American History X | 8.2  \n",
    "**Christopher Nolan** | Inception | 8.1  \n",
    "**Roman Polański** | The Pianist | 8.1  \n",
    "**Lenny Abrahamson** | Room | 8.1  \n",
    "**Jun Lana** | Bwakaw | 8.0  \n",
    "**Jean-Marc Vallée** | Dallas Buyers Club | 7.9  \n",
    "**Tate Taylor** | The Help | 7.9  \n",
    "**Spike Jonze** | Her | 7.9  \n",
    "**Matt Ross** | Captain Fantastic | 7.9  \n",
    "**Richard Curtis** | About Time | 7.8  "
   ]
  },
  {
   "cell_type": "markdown",
   "metadata": {
    "id": "0ezWXXZVj-TP"
   },
   "source": [
    "### **5.2:** Reflection"
   ]
  },
  {
   "cell_type": "markdown",
   "metadata": {
    "id": "XB3RBDG5kFe1"
   },
   "source": [
    "If I had more time to work on this project i would tackle the problem of having multiple genre columns. As the dataset is right now, we see the same genre occouring in different columns for different entries. This could be fixed by using one hot encoding.\n",
    "\n",
    "I would also focus on collecting more recent datasets and including data from movies on other OTT platforms. This would provide a more holistic view of the film industry, as relying on data from individual OTT services can introduce biases toward certain genres or audiences, potentially misrepresenting the industry as a whole.\n",
    "\n",
    "Additionally, I would perform a time series analysis to examine monthly and yearly trends. The inflation dataset included columns highlighting major economic events over the years, which I could analyze to understand their impacts on consumer behavior and how they influenced the industry.\n",
    "\n",
    "I would also explore identifying the most influential actors and trends in genres. For example, determining which genres typically require higher budgets or examining the popularity of genres across various years. Technology undoubtedly plays a significant role in shaping the types of movies that can be produced during a particular era, and analyzing this aspect could yield valuable insights."
   ]
  },
  {
   "cell_type": "code",
   "execution_count": null,
   "metadata": {},
   "outputs": [],
   "source": []
  }
 ],
 "metadata": {
  "colab": {
   "provenance": []
  },
  "kernelspec": {
   "display_name": "Python 3 (ipykernel)",
   "language": "python",
   "name": "python3"
  },
  "language_info": {
   "codemirror_mode": {
    "name": "ipython",
    "version": 3
   },
   "file_extension": ".py",
   "mimetype": "text/x-python",
   "name": "python",
   "nbconvert_exporter": "python",
   "pygments_lexer": "ipython3",
   "version": "3.9.13"
  }
 },
 "nbformat": 4,
 "nbformat_minor": 1
}
